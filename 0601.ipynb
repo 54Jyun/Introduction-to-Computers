{
  "nbformat": 4,
  "nbformat_minor": 0,
  "metadata": {
    "colab": {
      "name": "0601.ipynb",
      "provenance": [],
      "collapsed_sections": [],
      "authorship_tag": "ABX9TyMasPviwo7dB//LavbPQtM4",
      "include_colab_link": true
    },
    "kernelspec": {
      "name": "python3",
      "display_name": "Python 3"
    },
    "language_info": {
      "name": "python"
    }
  },
  "cells": [
    {
      "cell_type": "markdown",
      "metadata": {
        "id": "view-in-github",
        "colab_type": "text"
      },
      "source": [
        "<a href=\"https://colab.research.google.com/github/54Jyun/Introduction-to-Computers/blob/main/0601.ipynb\" target=\"_parent\"><img src=\"https://colab.research.google.com/assets/colab-badge.svg\" alt=\"Open In Colab\"/></a>"
      ]
    },
    {
      "cell_type": "code",
      "execution_count": null,
      "metadata": {
        "colab": {
          "base_uri": "https://localhost:8080/"
        },
        "id": "eVkmWa45ocJT",
        "outputId": "d332b298-6b2f-4b28-b7fc-448627bb6518"
      },
      "outputs": [
        {
          "output_type": "stream",
          "name": "stdout",
          "text": [
            "0601\n"
          ]
        }
      ],
      "source": [
        "  print(\"0601\")"
      ]
    },
    {
      "cell_type": "markdown",
      "source": [
        "九九乘法表"
      ],
      "metadata": {
        "id": "dJ5s88ghxoCE"
      }
    },
    {
      "cell_type": "code",
      "source": [
        "for i in range(2,10):\n",
        "  for j in range(1,10):\n",
        "    product = i * j\n",
        "    print(\"%d*%d=%2d \" % (i,j, product), end=\"\")\n",
        "  print()"
      ],
      "metadata": {
        "colab": {
          "base_uri": "https://localhost:8080/"
        },
        "id": "aKAWThqaoqtd",
        "outputId": "682029fc-e74a-467e-884c-d382aaa47104"
      },
      "execution_count": null,
      "outputs": [
        {
          "output_type": "stream",
          "name": "stdout",
          "text": [
            "2*1= 2 2*2= 4 2*3= 6 2*4= 8 2*5=10 2*6=12 2*7=14 2*8=16 2*9=18 \n",
            "3*1= 3 3*2= 6 3*3= 9 3*4=12 3*5=15 3*6=18 3*7=21 3*8=24 3*9=27 \n",
            "4*1= 4 4*2= 8 4*3=12 4*4=16 4*5=20 4*6=24 4*7=28 4*8=32 4*9=36 \n",
            "5*1= 5 5*2=10 5*3=15 5*4=20 5*5=25 5*6=30 5*7=35 5*8=40 5*9=45 \n",
            "6*1= 6 6*2=12 6*3=18 6*4=24 6*5=30 6*6=36 6*7=42 6*8=48 6*9=54 \n",
            "7*1= 7 7*2=14 7*3=21 7*4=28 7*5=35 7*6=42 7*7=49 7*8=56 7*9=63 \n",
            "8*1= 8 8*2=16 8*3=24 8*4=32 8*5=40 8*6=48 8*7=56 8*8=64 8*9=72 \n",
            "9*1= 9 9*2=18 9*3=27 9*4=36 9*5=45 9*6=54 9*7=63 9*8=72 9*9=81 \n"
          ]
        }
      ]
    },
    {
      "cell_type": "markdown",
      "source": [
        "最小公倍數"
      ],
      "metadata": {
        "id": "kUaxaNIysk0C"
      }
    },
    {
      "cell_type": "code",
      "source": [
        "a = int(input(\"請輸入a的值:\"))\n",
        "b = int(input(\"請輸入b的值:\"))\n",
        "\n",
        "maxno = a * b \n",
        "for i in range(1,maxno+1):\n",
        "  if (i % a == 0 and i % b ==0):\n",
        "    break\n",
        "print(\"%d 和 %d的最小公倍數 = %d\" %(a,b,i))"
      ],
      "metadata": {
        "colab": {
          "base_uri": "https://localhost:8080/"
        },
        "id": "3_cxNUYfqAvT",
        "outputId": "0884b748-82cc-469a-dcf7-87e14506ed7e"
      },
      "execution_count": null,
      "outputs": [
        {
          "output_type": "stream",
          "name": "stdout",
          "text": [
            "請輸入a的值:4\n",
            "請輸入b的值:6\n",
            "4 和 6的最小公倍數 = 12\n"
          ]
        }
      ]
    },
    {
      "cell_type": "markdown",
      "source": [
        "數列排除5"
      ],
      "metadata": {
        "id": "SzqFpOHys1_w"
      }
    },
    {
      "cell_type": "code",
      "source": [
        "n = int(input(\"請輸入一個正整數: \"))\n",
        "for i in range(1, n+1):\n",
        "  if i % 5 == 0:\n",
        "    continue\n",
        "  print(i,end=\" \")"
      ],
      "metadata": {
        "colab": {
          "base_uri": "https://localhost:8080/"
        },
        "id": "krul9MhysW6V",
        "outputId": "51beb08e-494e-47d7-bbb6-2f5731fff321"
      },
      "execution_count": null,
      "outputs": [
        {
          "output_type": "stream",
          "name": "stdout",
          "text": [
            "請輸入一個正整數: 25\n",
            "1 2 3 4 6 7 8 9 11 12 13 14 16 17 18 19 21 22 23 24 "
          ]
        }
      ]
    },
    {
      "cell_type": "markdown",
      "source": [
        "while迴圈"
      ],
      "metadata": {
        "id": "eMKS_1bhuTq2"
      }
    },
    {
      "cell_type": "code",
      "source": [
        "total = n = 0\n",
        "while(n<= 10):\n",
        "  total += n\n",
        "  n += 1\n",
        "print(total)"
      ],
      "metadata": {
        "colab": {
          "base_uri": "https://localhost:8080/"
        },
        "id": "59DYA0EgtyR6",
        "outputId": "fa36aef5-7506-4e63-c210-25522cfb19f6"
      },
      "execution_count": null,
      "outputs": [
        {
          "output_type": "stream",
          "name": "stdout",
          "text": [
            "55\n"
          ]
        }
      ]
    },
    {
      "cell_type": "code",
      "source": [
        "total = n = 0\n",
        "while n<= 10:\n",
        "  total += n\n",
        "  n += 1\n",
        "print(total)"
      ],
      "metadata": {
        "colab": {
          "base_uri": "https://localhost:8080/"
        },
        "id": "Yvwv1uJpvLhT",
        "outputId": "4fc93e86-5ff4-420d-aa08-4f18c5e7a69b"
      },
      "execution_count": null,
      "outputs": [
        {
          "output_type": "stream",
          "name": "stdout",
          "text": [
            "55\n"
          ]
        }
      ]
    },
    {
      "cell_type": "code",
      "source": [
        "total = n = 0\n",
        "while{n<= 10):\n",
        "  total += n\n",
        "print(total)"
      ],
      "metadata": {
        "colab": {
          "base_uri": "https://localhost:8080/",
          "height": 132
        },
        "id": "gOF8hpHpvMhT",
        "outputId": "0171deff-db4e-4da9-9004-c522f2feccae"
      },
      "execution_count": null,
      "outputs": [
        {
          "output_type": "error",
          "ename": "SyntaxError",
          "evalue": "ignored",
          "traceback": [
            "\u001b[0;36m  File \u001b[0;32m\"<ipython-input-13-d18fa8181301>\"\u001b[0;36m, line \u001b[0;32m2\u001b[0m\n\u001b[0;31m    while{n<= 10):\u001b[0m\n\u001b[0m                ^\u001b[0m\n\u001b[0;31mSyntaxError\u001b[0m\u001b[0;31m:\u001b[0m invalid syntax\n"
          ]
        }
      ]
    },
    {
      "cell_type": "markdown",
      "source": [
        "n!"
      ],
      "metadata": {
        "id": "WXpWo_mUwSlK"
      }
    },
    {
      "cell_type": "code",
      "source": [
        "total = i = 1\n",
        "n = int(input(\"請輸入正整數n的值: \"))\n",
        "while i<=n:\n",
        "  total *= i\n",
        "  i+=1\n",
        "print(\"%d!=%d\" % (n, total))"
      ],
      "metadata": {
        "colab": {
          "base_uri": "https://localhost:8080/"
        },
        "id": "KZT8HcRrwNLB",
        "outputId": "aa9dc06d-2fd4-481f-d3ef-9385f35e8af3"
      },
      "execution_count": null,
      "outputs": [
        {
          "output_type": "stream",
          "name": "stdout",
          "text": [
            "請輸入正整數n的值: 100\n",
            "100!=93326215443944152681699238856266700490715968264381621468592963895217599993229915608941463976156518286253697920827223758251185210916864000000000000000000000000\n"
          ]
        }
      ]
    },
    {
      "cell_type": "markdown",
      "source": [
        "1."
      ],
      "metadata": {
        "id": "S3pF5fSlzVAC"
      }
    },
    {
      "cell_type": "code",
      "source": [
        "jsum = 0\n",
        "for j in range(51):\n",
        "  if(j%2==1):\n",
        "    continue\n",
        "  jsum += j\n",
        "print(f'0～50的偶數和結果是{jsum}')\n",
        "jsum = 0\n",
        "for i in range(51):\n",
        "  if(i%2==0):\n",
        "    continue\n",
        "  jsum += i\n",
        "print(f'0～50的奇數和結果是{jsum}')"
      ],
      "metadata": {
        "colab": {
          "base_uri": "https://localhost:8080/"
        },
        "id": "byOO2Q6A0uVD",
        "outputId": "12c46a6b-6ccf-4fbf-f79a-528dd57df7f5"
      },
      "execution_count": 17,
      "outputs": [
        {
          "output_type": "stream",
          "name": "stdout",
          "text": [
            "0～50的偶數和結果是650\n",
            "0～50的奇數和結果是625\n"
          ]
        }
      ]
    },
    {
      "cell_type": "markdown",
      "source": [
        "2."
      ],
      "metadata": {
        "id": "ggLoDphbzYxj"
      }
    },
    {
      "cell_type": "code",
      "source": [
        "n=int(input('請輸入正整數:'))\n",
        "for i in range(n):\n",
        "  print((n-i)*'*')"
      ],
      "metadata": {
        "id": "eIBqa1WnzEdj",
        "colab": {
          "base_uri": "https://localhost:8080/"
        },
        "outputId": "028a7af4-32fc-433d-aea1-d2257495e1db"
      },
      "execution_count": 2,
      "outputs": [
        {
          "output_type": "stream",
          "name": "stdout",
          "text": [
            "請輸入正整數:7\n",
            "*******\n",
            "******\n",
            "*****\n",
            "****\n",
            "***\n",
            "**\n",
            "*\n"
          ]
        }
      ]
    },
    {
      "cell_type": "code",
      "source": [
        "n=int(input('請輸入正整數:'))\n",
        "for i in range(n):\n",
        "  print((n-i)*'*')"
      ],
      "metadata": {
        "colab": {
          "base_uri": "https://localhost:8080/"
        },
        "id": "-uEwENrx-wQC",
        "outputId": "12fc2d27-236b-4b28-b8fe-fbed7a116f28"
      },
      "execution_count": 3,
      "outputs": [
        {
          "output_type": "stream",
          "name": "stdout",
          "text": [
            "請輸入正整數:5\n",
            "*****\n",
            "****\n",
            "***\n",
            "**\n",
            "*\n"
          ]
        }
      ]
    },
    {
      "cell_type": "markdown",
      "source": [
        "3."
      ],
      "metadata": {
        "id": "MZLgqd2szbE5"
      }
    },
    {
      "cell_type": "code",
      "source": [
        "sum = 0\n",
        "for i in range(1,101):\n",
        "  if i % 3 == 0 or i % 7 == 0:\n",
        "    sum += i\n",
        "print(\"數值 1～100 中，所有是 3 或 7 倍數的數之總和 = \"+str(sum))"
      ],
      "metadata": {
        "id": "L8kHZONSzEpr",
        "colab": {
          "base_uri": "https://localhost:8080/"
        },
        "outputId": "d65e34a7-d02d-415c-9dde-a8a34f948708"
      },
      "execution_count": 13,
      "outputs": [
        {
          "output_type": "stream",
          "name": "stdout",
          "text": [
            "數值 1～100 中，所有是 3 或 7 倍數的數之總和 = 2208\n"
          ]
        }
      ]
    },
    {
      "cell_type": "markdown",
      "source": [
        "4."
      ],
      "metadata": {
        "id": "DVekUe_pzdQ1"
      }
    },
    {
      "cell_type": "code",
      "source": [
        "n = int(input(\"請輸入正整數: \"))\n",
        "li = list()\n",
        "i=1\n",
        "while i<= n:\n",
        "  if n%i == 0:\n",
        "    li.append(i)\n",
        "  i=i+1\n",
        "print(n,\"的因數有 \",end='')\n",
        "for j in range(len(li)):\n",
        "  print(li[j],end=\" \")\n",
        "print(\"\")\n",
        "if len(li) > 2:\n",
        "  print(n,\"不是質數\")\n",
        "elif n == 1:\n",
        "  print(\"1不是質數\")\n",
        "else:\n",
        "  print(n,\"是質數\")"
      ],
      "metadata": {
        "id": "wewf4AO5zE1H",
        "colab": {
          "base_uri": "https://localhost:8080/"
        },
        "outputId": "4aeeb67f-b706-41c7-9732-2023f2eea73b"
      },
      "execution_count": 14,
      "outputs": [
        {
          "output_type": "stream",
          "name": "stdout",
          "text": [
            "請輸入正整數: 12\n",
            "12 的因數有 1 2 3 4 6 12 \n",
            "12 不是質數\n"
          ]
        }
      ]
    },
    {
      "cell_type": "code",
      "source": [
        "n = int(input(\"請輸入正整數: \"))\n",
        "li = list()\n",
        "i=1\n",
        "while i<= n:\n",
        "  if n%i == 0:\n",
        "    li.append(i)\n",
        "  i=i+1\n",
        "print(n,\"的因數有 \",end='')\n",
        "for j in range(len(li)):\n",
        "  print(li[j],end=\" \")\n",
        "print(\"\")\n",
        "if len(li) > 2:\n",
        "  print(n,\"不是質數\")\n",
        "elif n == 1:\n",
        "  print(\"1不是質數\")\n",
        "else:\n",
        "  print(n,\"是質數\")"
      ],
      "metadata": {
        "colab": {
          "base_uri": "https://localhost:8080/"
        },
        "id": "5sEIlbxdArPW",
        "outputId": "d3c68ca5-7725-4e72-faed-032a45da8d94"
      },
      "execution_count": 15,
      "outputs": [
        {
          "output_type": "stream",
          "name": "stdout",
          "text": [
            "請輸入正整數: 11\n",
            "11 的因數有 1 11 \n",
            "11 是質數\n"
          ]
        }
      ]
    }
  ]
}