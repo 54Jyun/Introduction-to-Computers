{
  "nbformat": 4,
  "nbformat_minor": 0,
  "metadata": {
    "colab": {
      "name": "0608.ipynb",
      "provenance": [],
      "collapsed_sections": [],
      "authorship_tag": "ABX9TyPJkfm1JAbmVrDk24IoIglb",
      "include_colab_link": true
    },
    "kernelspec": {
      "name": "python3",
      "display_name": "Python 3"
    },
    "language_info": {
      "name": "python"
    }
  },
  "cells": [
    {
      "cell_type": "markdown",
      "metadata": {
        "id": "view-in-github",
        "colab_type": "text"
      },
      "source": [
        "<a href=\"https://colab.research.google.com/github/54Jyun/Introduction-to-Computers/blob/main/0608.ipynb\" target=\"_parent\"><img src=\"https://colab.research.google.com/assets/colab-badge.svg\" alt=\"Open In Colab\"/></a>"
      ]
    },
    {
      "cell_type": "code",
      "execution_count": 1,
      "metadata": {
        "id": "RCBIoAAFqxHk"
      },
      "outputs": [],
      "source": [
        "list1 = [1,2,3,4]"
      ]
    },
    {
      "cell_type": "code",
      "source": [
        "list1"
      ],
      "metadata": {
        "colab": {
          "base_uri": "https://localhost:8080/"
        },
        "id": "beoBkictsgwJ",
        "outputId": "ddcaaa65-12ba-482e-c04d-c6d89dd3183c"
      },
      "execution_count": 2,
      "outputs": [
        {
          "output_type": "execute_result",
          "data": {
            "text/plain": [
              "[1, 2, 3, 4]"
            ]
          },
          "metadata": {},
          "execution_count": 2
        }
      ]
    },
    {
      "cell_type": "code",
      "source": [
        "list2 = [\"香蕉\",\"蘋果\",\"橘子\"]"
      ],
      "metadata": {
        "id": "EDbJwp2xsrSh"
      },
      "execution_count": 4,
      "outputs": []
    },
    {
      "cell_type": "code",
      "source": [
        "list2"
      ],
      "metadata": {
        "colab": {
          "base_uri": "https://localhost:8080/"
        },
        "id": "zUghxsKatNww",
        "outputId": "8df9b6e9-7434-46a8-c2ed-96e13ea547d9"
      },
      "execution_count": 5,
      "outputs": [
        {
          "output_type": "execute_result",
          "data": {
            "text/plain": [
              "['香蕉', '蘋果', '橘子']"
            ]
          },
          "metadata": {},
          "execution_count": 5
        }
      ]
    },
    {
      "cell_type": "code",
      "source": [
        "list3 = [1,'香蕉',True]"
      ],
      "metadata": {
        "id": "RxAsZ9SHtQTQ"
      },
      "execution_count": 7,
      "outputs": []
    },
    {
      "cell_type": "code",
      "source": [
        "list3"
      ],
      "metadata": {
        "colab": {
          "base_uri": "https://localhost:8080/"
        },
        "id": "eobxr2pttQfs",
        "outputId": "b733b637-8efe-4785-bf6c-c5cdb99d59a4"
      },
      "execution_count": 8,
      "outputs": [
        {
          "output_type": "execute_result",
          "data": {
            "text/plain": [
              "[1, '香蕉', True]"
            ]
          },
          "metadata": {},
          "execution_count": 8
        }
      ]
    },
    {
      "cell_type": "code",
      "source": [
        "list4 = []"
      ],
      "metadata": {
        "id": "sCiC2khjtieb"
      },
      "execution_count": 10,
      "outputs": []
    },
    {
      "cell_type": "code",
      "source": [
        "list4"
      ],
      "metadata": {
        "colab": {
          "base_uri": "https://localhost:8080/"
        },
        "id": "h5HPA8fQtiq8",
        "outputId": "1a923413-648a-4f47-f57f-9630d3fe6d3e"
      },
      "execution_count": 11,
      "outputs": [
        {
          "output_type": "execute_result",
          "data": {
            "text/plain": [
              "[]"
            ]
          },
          "metadata": {},
          "execution_count": 11
        }
      ]
    },
    {
      "cell_type": "code",
      "source": [
        "list1 = [1,2,3,4]"
      ],
      "metadata": {
        "id": "3oVQM7qDuE6P"
      },
      "execution_count": 13,
      "outputs": []
    },
    {
      "cell_type": "code",
      "source": [
        "print(list1[0])"
      ],
      "metadata": {
        "colab": {
          "base_uri": "https://localhost:8080/"
        },
        "id": "2l3HJIA8uFMX",
        "outputId": "73683959-c92e-4a8d-a7ea-a647030ff9e4"
      },
      "execution_count": 15,
      "outputs": [
        {
          "output_type": "stream",
          "name": "stdout",
          "text": [
            "1\n"
          ]
        }
      ]
    },
    {
      "cell_type": "code",
      "source": [
        "print(list1[1])"
      ],
      "metadata": {
        "colab": {
          "base_uri": "https://localhost:8080/"
        },
        "id": "j_3H5RBKuFd3",
        "outputId": "a47e65b0-7294-4404-c4dd-dff2bd94eea9"
      },
      "execution_count": 16,
      "outputs": [
        {
          "output_type": "stream",
          "name": "stdout",
          "text": [
            "2\n"
          ]
        }
      ]
    },
    {
      "cell_type": "code",
      "source": [
        "print(list1[0])\n",
        "print(list1[1])\n",
        "print(list1[2])\n",
        "print(list1[3])"
      ],
      "metadata": {
        "colab": {
          "base_uri": "https://localhost:8080/"
        },
        "id": "56d5tpJRuFq4",
        "outputId": "140675dd-05b0-4875-c928-aca09a545816"
      },
      "execution_count": 54,
      "outputs": [
        {
          "output_type": "stream",
          "name": "stdout",
          "text": [
            "1\n",
            "2\n",
            "3\n",
            "4\n"
          ]
        }
      ]
    },
    {
      "cell_type": "code",
      "source": [
        "print(list1[4])"
      ],
      "metadata": {
        "colab": {
          "base_uri": "https://localhost:8080/",
          "height": 167
        },
        "id": "qipgRz7-vSmf",
        "outputId": "10f4d5e7-bb5a-42e4-8e5d-1a1d076bbb39"
      },
      "execution_count": 18,
      "outputs": [
        {
          "output_type": "error",
          "ename": "IndexError",
          "evalue": "ignored",
          "traceback": [
            "\u001b[0;31m---------------------------------------------------------------------------\u001b[0m",
            "\u001b[0;31mIndexError\u001b[0m                                Traceback (most recent call last)",
            "\u001b[0;32m<ipython-input-18-827113708aff>\u001b[0m in \u001b[0;36m<module>\u001b[0;34m()\u001b[0m\n\u001b[0;32m----> 1\u001b[0;31m \u001b[0mprint\u001b[0m\u001b[0;34m(\u001b[0m\u001b[0mlist1\u001b[0m\u001b[0;34m[\u001b[0m\u001b[0;36m4\u001b[0m\u001b[0;34m]\u001b[0m\u001b[0;34m)\u001b[0m\u001b[0;34m\u001b[0m\u001b[0;34m\u001b[0m\u001b[0m\n\u001b[0m",
            "\u001b[0;31mIndexError\u001b[0m: list index out of range"
          ]
        }
      ]
    },
    {
      "cell_type": "code",
      "source": [
        "list4 = [\"香蕉\",\"蘋果\",\"橘子\"]"
      ],
      "metadata": {
        "id": "IwTyZlf4vSrz"
      },
      "execution_count": 19,
      "outputs": []
    },
    {
      "cell_type": "code",
      "source": [
        "print(list4[0])\n",
        "print(list4[1])\n",
        "print(list4[2])"
      ],
      "metadata": {
        "colab": {
          "base_uri": "https://localhost:8080/"
        },
        "id": "DGiwHaW3vSvI",
        "outputId": "55173d4b-0d54-4de2-c201-30d31242ea86"
      },
      "execution_count": 20,
      "outputs": [
        {
          "output_type": "stream",
          "name": "stdout",
          "text": [
            "香蕉\n",
            "蘋果\n",
            "橘子\n"
          ]
        }
      ]
    },
    {
      "cell_type": "code",
      "source": [
        "print(list4[3])"
      ],
      "metadata": {
        "colab": {
          "base_uri": "https://localhost:8080/",
          "height": 167
        },
        "id": "lSS4HlkXvS4K",
        "outputId": "9d69fc2e-6065-4ada-97c2-8ec850a232fc"
      },
      "execution_count": 69,
      "outputs": [
        {
          "output_type": "error",
          "ename": "IndexError",
          "evalue": "ignored",
          "traceback": [
            "\u001b[0;31m---------------------------------------------------------------------------\u001b[0m",
            "\u001b[0;31mIndexError\u001b[0m                                Traceback (most recent call last)",
            "\u001b[0;32m<ipython-input-69-9576ac69e6be>\u001b[0m in \u001b[0;36m<module>\u001b[0;34m()\u001b[0m\n\u001b[0;32m----> 1\u001b[0;31m \u001b[0mprint\u001b[0m\u001b[0;34m(\u001b[0m\u001b[0mlist4\u001b[0m\u001b[0;34m[\u001b[0m\u001b[0;36m3\u001b[0m\u001b[0;34m]\u001b[0m\u001b[0;34m)\u001b[0m\u001b[0;34m\u001b[0m\u001b[0;34m\u001b[0m\u001b[0m\n\u001b[0m",
            "\u001b[0;31mIndexError\u001b[0m: list index out of range"
          ]
        }
      ]
    },
    {
      "cell_type": "code",
      "source": [
        "print(list4[2])"
      ],
      "metadata": {
        "colab": {
          "base_uri": "https://localhost:8080/"
        },
        "id": "TCCptjo1Age1",
        "outputId": "7816bfa2-e8b0-433c-9f0c-505480d26a8c"
      },
      "execution_count": 70,
      "outputs": [
        {
          "output_type": "stream",
          "name": "stdout",
          "text": [
            "橘子\n"
          ]
        }
      ]
    },
    {
      "cell_type": "code",
      "source": [
        "print(list4[-1])\n",
        "print(list4[-2])\n",
        "print(list4[-3])"
      ],
      "metadata": {
        "colab": {
          "base_uri": "https://localhost:8080/"
        },
        "id": "zR3kFj9P7Ok1",
        "outputId": "b1a22da5-89dc-4ea9-e829-97606a1ec0a4"
      },
      "execution_count": 64,
      "outputs": [
        {
          "output_type": "stream",
          "name": "stdout",
          "text": [
            "橘子\n",
            "蘋果\n",
            "香蕉\n"
          ]
        }
      ]
    },
    {
      "cell_type": "code",
      "source": [
        "print(list4[-4])"
      ],
      "metadata": {
        "colab": {
          "base_uri": "https://localhost:8080/",
          "height": 167
        },
        "id": "wIilNLSJwSkD",
        "outputId": "37f52c43-c44a-43bb-d9b6-4ca631882323"
      },
      "execution_count": 23,
      "outputs": [
        {
          "output_type": "error",
          "ename": "IndexError",
          "evalue": "ignored",
          "traceback": [
            "\u001b[0;31m---------------------------------------------------------------------------\u001b[0m",
            "\u001b[0;31mIndexError\u001b[0m                                Traceback (most recent call last)",
            "\u001b[0;32m<ipython-input-23-0c21896b40b4>\u001b[0m in \u001b[0;36m<module>\u001b[0;34m()\u001b[0m\n\u001b[0;32m----> 1\u001b[0;31m \u001b[0mprint\u001b[0m\u001b[0;34m(\u001b[0m\u001b[0mlist4\u001b[0m\u001b[0;34m[\u001b[0m\u001b[0;34m-\u001b[0m\u001b[0;36m4\u001b[0m\u001b[0;34m]\u001b[0m\u001b[0;34m)\u001b[0m\u001b[0;34m\u001b[0m\u001b[0;34m\u001b[0m\u001b[0m\n\u001b[0m",
            "\u001b[0;31mIndexError\u001b[0m: list index out of range"
          ]
        }
      ]
    },
    {
      "cell_type": "code",
      "source": [
        "list5 = [[\"tom\",\"1234\"]],[\"mary\",\"abcd\"],[\"david\",\"5678\"]"
      ],
      "metadata": {
        "id": "BoSWc_r6wSnx"
      },
      "execution_count": 24,
      "outputs": []
    },
    {
      "cell_type": "code",
      "source": [
        "print(list5[1])"
      ],
      "metadata": {
        "colab": {
          "base_uri": "https://localhost:8080/"
        },
        "id": "HzAgknlkwSua",
        "outputId": "4d4fbc1b-aeb3-4482-fcd1-84ce5a030757"
      },
      "execution_count": 25,
      "outputs": [
        {
          "output_type": "stream",
          "name": "stdout",
          "text": [
            "['mary', 'abcd']\n"
          ]
        }
      ]
    },
    {
      "cell_type": "code",
      "source": [
        "print(list5[0])"
      ],
      "metadata": {
        "colab": {
          "base_uri": "https://localhost:8080/"
        },
        "id": "5RACXPCpwSxB",
        "outputId": "a2a56fd4-8581-440d-d400-6c29283419ac"
      },
      "execution_count": 26,
      "outputs": [
        {
          "output_type": "stream",
          "name": "stdout",
          "text": [
            "[['tom', '1234']]\n"
          ]
        }
      ]
    },
    {
      "cell_type": "code",
      "source": [
        "print(list5[1][1])"
      ],
      "metadata": {
        "colab": {
          "base_uri": "https://localhost:8080/"
        },
        "id": "Le_An6RfwSzu",
        "outputId": "6d7bcb3c-e55e-41db-88bf-014b10198bc6"
      },
      "execution_count": 27,
      "outputs": [
        {
          "output_type": "stream",
          "name": "stdout",
          "text": [
            "abcd\n"
          ]
        }
      ]
    },
    {
      "cell_type": "code",
      "source": [
        "print(list5[0])"
      ],
      "metadata": {
        "colab": {
          "base_uri": "https://localhost:8080/"
        },
        "id": "Ha1nyi5iwS3z",
        "outputId": "31a55122-6ad7-432d-ac96-da2f1893a78b"
      },
      "execution_count": 28,
      "outputs": [
        {
          "output_type": "stream",
          "name": "stdout",
          "text": [
            "[['tom', '1234']]\n"
          ]
        }
      ]
    },
    {
      "cell_type": "code",
      "source": [
        "print(list5[0][0])"
      ],
      "metadata": {
        "colab": {
          "base_uri": "https://localhost:8080/"
        },
        "id": "xHiMQseiwS7b",
        "outputId": "aeb3360c-e434-4d12-96e3-15a3ea035832"
      },
      "execution_count": 29,
      "outputs": [
        {
          "output_type": "stream",
          "name": "stdout",
          "text": [
            "['tom', '1234']\n"
          ]
        }
      ]
    },
    {
      "cell_type": "code",
      "source": [
        "print(list5[0][0])"
      ],
      "metadata": {
        "colab": {
          "base_uri": "https://localhost:8080/"
        },
        "id": "YeM-4YmryT6n",
        "outputId": "6fb0fb23-4e1b-4513-f938-1d4002e985a7"
      },
      "execution_count": 30,
      "outputs": [
        {
          "output_type": "stream",
          "name": "stdout",
          "text": [
            "['tom', '1234']\n"
          ]
        }
      ]
    },
    {
      "cell_type": "code",
      "source": [
        "print(list5[1][0])"
      ],
      "metadata": {
        "colab": {
          "base_uri": "https://localhost:8080/"
        },
        "id": "v4qC9YqKyT9Q",
        "outputId": "1f789673-5c6f-4659-fdd7-4058d34b274a"
      },
      "execution_count": 31,
      "outputs": [
        {
          "output_type": "stream",
          "name": "stdout",
          "text": [
            "mary\n"
          ]
        }
      ]
    },
    {
      "cell_type": "code",
      "source": [
        "print(list5[1][1])"
      ],
      "metadata": {
        "colab": {
          "base_uri": "https://localhost:8080/"
        },
        "id": "ryc3PKvGzzy8",
        "outputId": "c8db95c3-3ac8-487a-de30-e5beb04fd3e8"
      },
      "execution_count": 32,
      "outputs": [
        {
          "output_type": "stream",
          "name": "stdout",
          "text": [
            "abcd\n"
          ]
        }
      ]
    },
    {
      "cell_type": "code",
      "source": [
        "scores = [85,79,93]"
      ],
      "metadata": {
        "id": "JFyeJyDPyT_n"
      },
      "execution_count": 52,
      "outputs": []
    },
    {
      "cell_type": "code",
      "source": [
        "print(\"國文成績: %d分\" % scores[0])\n",
        "print(\"數學成績: %d分\" % scores[1])\n",
        "print(\"英文成績: %d分\" % scores[2])"
      ],
      "metadata": {
        "colab": {
          "base_uri": "https://localhost:8080/"
        },
        "id": "Kc2q5nfSyUDU",
        "outputId": "1806b319-5d82-4f6d-a752-9968fb3cba74"
      },
      "execution_count": 53,
      "outputs": [
        {
          "output_type": "stream",
          "name": "stdout",
          "text": [
            "國文成績: 85分\n",
            "數學成績: 79分\n",
            "英文成績: 93分\n"
          ]
        }
      ]
    },
    {
      "cell_type": "code",
      "source": [
        "list6 = [1,2,3,4,5]"
      ],
      "metadata": {
        "id": "ZGOg-go-05U5"
      },
      "execution_count": 37,
      "outputs": []
    },
    {
      "cell_type": "code",
      "source": [
        "list6[1]"
      ],
      "metadata": {
        "colab": {
          "base_uri": "https://localhost:8080/"
        },
        "id": "2-8ac7QR2u8C",
        "outputId": "2c989e02-5cae-45c8-dd50-f093c4488329"
      },
      "execution_count": 77,
      "outputs": [
        {
          "output_type": "execute_result",
          "data": {
            "text/plain": [
              "1"
            ]
          },
          "metadata": {},
          "execution_count": 77
        }
      ]
    },
    {
      "cell_type": "code",
      "source": [
        "print(list6)"
      ],
      "metadata": {
        "colab": {
          "base_uri": "https://localhost:8080/"
        },
        "id": "-RQwnfXA05Z4",
        "outputId": "40c1b96b-e9d3-4ace-f763-c0067f5ab8e6"
      },
      "execution_count": 38,
      "outputs": [
        {
          "output_type": "stream",
          "name": "stdout",
          "text": [
            "[1, 2, 3, 4, 5]\n"
          ]
        }
      ]
    },
    {
      "cell_type": "code",
      "source": [
        "list6[0] = 9"
      ],
      "metadata": {
        "id": "MBY3q3Sk05dF"
      },
      "execution_count": 39,
      "outputs": []
    },
    {
      "cell_type": "code",
      "source": [
        "print(list6[0])"
      ],
      "metadata": {
        "colab": {
          "base_uri": "https://localhost:8080/"
        },
        "id": "gjleyPukyUGt",
        "outputId": "2d2c66c4-aadf-460f-847d-2cd094c4ca31"
      },
      "execution_count": 40,
      "outputs": [
        {
          "output_type": "stream",
          "name": "stdout",
          "text": [
            "9\n"
          ]
        }
      ]
    },
    {
      "cell_type": "code",
      "source": [
        "print(list6)"
      ],
      "metadata": {
        "colab": {
          "base_uri": "https://localhost:8080/"
        },
        "id": "xjfn5b5j2cSf",
        "outputId": "7b56b658-b267-46f0-bf79-5fde67bdca42"
      },
      "execution_count": 41,
      "outputs": [
        {
          "output_type": "stream",
          "name": "stdout",
          "text": [
            "[9, 2, 3, 4, 5]\n"
          ]
        }
      ]
    },
    {
      "cell_type": "code",
      "source": [
        "list7 = [\"香蕉\",\"蘋果\",\"橘子\"]"
      ],
      "metadata": {
        "id": "eXf7ojPo2cVI"
      },
      "execution_count": 44,
      "outputs": []
    },
    {
      "cell_type": "code",
      "source": [
        "print(list7)"
      ],
      "metadata": {
        "colab": {
          "base_uri": "https://localhost:8080/"
        },
        "id": "oNV6srzJ2cfI",
        "outputId": "3e10f875-fcf2-4b50-a511-8c3c72194dc8"
      },
      "execution_count": 45,
      "outputs": [
        {
          "output_type": "stream",
          "name": "stdout",
          "text": [
            "['香蕉', '蘋果', '橘子']\n"
          ]
        }
      ]
    },
    {
      "cell_type": "code",
      "source": [
        "for s in list7:\n",
        "  print(s, end= \",\")"
      ],
      "metadata": {
        "colab": {
          "base_uri": "https://localhost:8080/"
        },
        "id": "QQtFFJ8Z45qS",
        "outputId": "8a1f2a14-5a16-46df-ff08-9df3632a9736"
      },
      "execution_count": 46,
      "outputs": [
        {
          "output_type": "stream",
          "name": "stdout",
          "text": [
            "香蕉,蘋果,橘子,"
          ]
        }
      ]
    },
    {
      "cell_type": "code",
      "source": [
        "list8 = [123,'apple',True]"
      ],
      "metadata": {
        "id": "WYjiMz0m45sm"
      },
      "execution_count": 67,
      "outputs": []
    },
    {
      "cell_type": "code",
      "source": [
        "print(list8[0])\n",
        "print(list8[1])\n",
        "print(list8[2])"
      ],
      "metadata": {
        "colab": {
          "base_uri": "https://localhost:8080/"
        },
        "id": "zcuq-rgw_o3B",
        "outputId": "9283c7b9-7a39-4943-84aa-08c877fb4928"
      },
      "execution_count": 68,
      "outputs": [
        {
          "output_type": "stream",
          "name": "stdout",
          "text": [
            "123\n",
            "apple\n",
            "True\n"
          ]
        }
      ]
    },
    {
      "cell_type": "code",
      "source": [
        "scores = [85,79,93]\n",
        "print(len(scores))"
      ],
      "metadata": {
        "colab": {
          "base_uri": "https://localhost:8080/"
        },
        "id": "vqfFe7kc45xE",
        "outputId": "75273ff7-a2d5-4527-c433-492d30dd2b4e"
      },
      "execution_count": 48,
      "outputs": [
        {
          "output_type": "stream",
          "name": "stdout",
          "text": [
            "3\n"
          ]
        }
      ]
    },
    {
      "cell_type": "code",
      "source": [
        "scores = [85,79,93,50]\n",
        "print(len(scores))"
      ],
      "metadata": {
        "colab": {
          "base_uri": "https://localhost:8080/"
        },
        "id": "_jqVddW-456r",
        "outputId": "1bd649d4-d5ef-4815-e2c7-b01c324b065c"
      },
      "execution_count": 49,
      "outputs": [
        {
          "output_type": "stream",
          "name": "stdout",
          "text": [
            "4\n"
          ]
        }
      ]
    },
    {
      "cell_type": "code",
      "source": [
        "scores = [85,79,93]\n",
        "for i in range(len(scores)):\n",
        "  print(scores[i])"
      ],
      "metadata": {
        "colab": {
          "base_uri": "https://localhost:8080/"
        },
        "id": "MeUZhPtl45_2",
        "outputId": "b513657d-f215-4128-c88c-efc7584b69e8"
      },
      "execution_count": 51,
      "outputs": [
        {
          "output_type": "stream",
          "name": "stdout",
          "text": [
            "85\n",
            "79\n",
            "93\n"
          ]
        }
      ]
    },
    {
      "cell_type": "code",
      "source": [
        "print(\"國文成績: %d分\" % scores[0])\n",
        "print(\"數學成績: %d分\" % scores[1])\n",
        "print(\"英文成績: %d分\" % scores[2])"
      ],
      "metadata": {
        "colab": {
          "base_uri": "https://localhost:8080/"
        },
        "id": "8Mfpa0t246ET",
        "outputId": "978da73d-685a-46cb-c6f4-daca33f64f73"
      },
      "execution_count": 76,
      "outputs": [
        {
          "output_type": "stream",
          "name": "stdout",
          "text": [
            "國文成績: 85分\n",
            "數學成績: 79分\n",
            "英文成績: 93分\n"
          ]
        }
      ]
    },
    {
      "cell_type": "code",
      "source": [
        "number = [1,2,3]"
      ],
      "metadata": {
        "id": "iiOGr_ey46JR"
      },
      "execution_count": 57,
      "outputs": []
    },
    {
      "cell_type": "code",
      "source": [
        "name = [\"Tom\",\"Mary\",\"Tony\"]"
      ],
      "metadata": {
        "id": "_nu_0_on9rKp"
      },
      "execution_count": 79,
      "outputs": []
    },
    {
      "cell_type": "code",
      "source": [
        "print(\"編號:%d\" % number[0],\"姓名:\",name[0])\n",
        "print(\"編號:%d\" % number[1],\"姓名:\",name[1])\n",
        "print(\"編號:%d\" % number[2],\"姓名:\",name[2])"
      ],
      "metadata": {
        "colab": {
          "base_uri": "https://localhost:8080/"
        },
        "id": "O0PoylzUEPZ5",
        "outputId": "4574dce5-ad8c-4990-9342-b2fcddcd5e2e"
      },
      "execution_count": 83,
      "outputs": [
        {
          "output_type": "stream",
          "name": "stdout",
          "text": [
            "編號:1 姓名: Tom\n",
            "編號:2 姓名: Mary\n",
            "編號:3 姓名: Tony\n"
          ]
        }
      ]
    }
  ]
}