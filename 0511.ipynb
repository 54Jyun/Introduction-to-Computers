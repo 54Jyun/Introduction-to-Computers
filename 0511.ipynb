{
  "nbformat": 4,
  "nbformat_minor": 0,
  "metadata": {
    "colab": {
      "name": "0511.ipynb",
      "provenance": [],
      "collapsed_sections": [],
      "authorship_tag": "ABX9TyPGT1Ahp/ZXBuCvtTCuWCUt",
      "include_colab_link": true
    },
    "kernelspec": {
      "name": "python3",
      "display_name": "Python 3"
    },
    "language_info": {
      "name": "python"
    }
  },
  "cells": [
    {
      "cell_type": "markdown",
      "metadata": {
        "id": "view-in-github",
        "colab_type": "text"
      },
      "source": [
        "<a href=\"https://colab.research.google.com/github/54Jyun/Introduction-to-Computers/blob/main/0511.ipynb\" target=\"_parent\"><img src=\"https://colab.research.google.com/assets/colab-badge.svg\" alt=\"Open In Colab\"/></a>"
      ]
    },
    {
      "cell_type": "code",
      "execution_count": 1,
      "metadata": {
        "colab": {
          "base_uri": "https://localhost:8080/"
        },
        "id": "tiJiV3tPdkaE",
        "outputId": "f8918d6b-8b22-4c18-82c8-14a99d235423"
      },
      "outputs": [
        {
          "output_type": "stream",
          "name": "stdout",
          "text": [
            "test\n"
          ]
        }
      ],
      "source": [
        "print(\"test\")"
      ]
    },
    {
      "cell_type": "code",
      "source": [
        "temp = float(input(\"請輸入你的體溫\"))\n",
        "if temp >= 37.5:\n",
        "  print(\"體溫過高!\")\n",
        "elif temp >= 37 and temp < 37.4:\n",
        "  print(\"體溫略高!\")\n",
        "elif temp >= 34 and temp < 36.9:\n",
        "  print(\"體溫正常!\")\n",
        "else:\n",
        "  print(\"體溫異常,請重新量測!\")"
      ],
      "metadata": {
        "colab": {
          "base_uri": "https://localhost:8080/"
        },
        "id": "oxjCInC5efRT",
        "outputId": "d7d419ad-2d5a-45d1-d08e-9ada2b3e91a2"
      },
      "execution_count": 60,
      "outputs": [
        {
          "output_type": "stream",
          "name": "stdout",
          "text": [
            "請輸入你的體溫37.5\n",
            "體溫過高!\n"
          ]
        }
      ]
    },
    {
      "cell_type": "code",
      "source": [
        "temp = float(input(\"請輸入你的體溫\"))\n",
        "if temp >= 37.5:\n",
        "  print(\"體溫過高!\")\n",
        "elif temp >= 37 and temp <= 37.4:\n",
        "  print(\"體溫略高!\")\n",
        "elif temp >= 34 and temp <= 36.9:\n",
        "  print(\"體溫正常!\")\n",
        "elif temp < 34:\n",
        "  print(\"體溫異常,請重新量測!\")"
      ],
      "metadata": {
        "colab": {
          "base_uri": "https://localhost:8080/"
        },
        "id": "tnME8dTim93u",
        "outputId": "a06ec4d1-c4ac-42f7-9385-9da6d13f18aa"
      },
      "execution_count": 61,
      "outputs": [
        {
          "output_type": "stream",
          "name": "stdout",
          "text": [
            "請輸入你的體溫32\n",
            "體溫異常,請重新量測!\n"
          ]
        }
      ]
    },
    {
      "cell_type": "code",
      "source": [
        "money = int(input(\"請輸入購物金額:\"))\n",
        "if(money >= 10000):\n",
        "  if(money >= 100000):\n",
        "   print(\"八折\",money * 0.8,end=\"元\\n\")\n",
        "  elif(money >= 50000):\n",
        "    print(\"八五折\",money * 0.85,end=\"元\\n\")\n",
        "  elif(money >= 30000):\n",
        "    print(\"九折\",money * 0.9,end=\"元\\n\")\n",
        "  else:\n",
        "    print(\"九五折\",money * 0.95,end=\"元\\n\")\n",
        "else:\n",
        "  print(\"沒打折\",money,end=\"元\\n\")"
      ],
      "metadata": {
        "colab": {
          "base_uri": "https://localhost:8080/"
        },
        "id": "Ac0xRv1Aho4H",
        "outputId": "4697ef5d-2d05-407a-ff83-3164e752f336"
      },
      "execution_count": 51,
      "outputs": [
        {
          "output_type": "stream",
          "name": "stdout",
          "text": [
            "請輸入購物金額:100\n",
            "沒打折 100元\n"
          ]
        }
      ]
    },
    {
      "cell_type": "code",
      "source": [
        "money = int(input(\"請輸入購物金額:\"))\n",
        "if(money >= 100000):\n",
        "  print(\"八折\",money * 0.8,end=\"元\\n\")\n",
        "elif(money >= 50000):\n",
        "  print(\"八五折\",money * 0.85,end=\"元\\n\")\n",
        "elif(money >= 30000):\n",
        "  print(\"九折\",money * 0.9,end=\"元\\n\")\n",
        "elif(money >= 10000):\n",
        "  print(\"九五折\",money * 0.95,end=\"元\\n\")\n",
        "else:\n",
        "  print(\"沒打折\",money,end=\"元\\n\")"
      ],
      "metadata": {
        "colab": {
          "base_uri": "https://localhost:8080/"
        },
        "id": "Gc41zs0fqBjA",
        "outputId": "be6c7314-995e-4d92-88b9-a1ddbb86abc7"
      },
      "execution_count": 53,
      "outputs": [
        {
          "output_type": "stream",
          "name": "stdout",
          "text": [
            "請輸入購物金額:100000\n",
            "八折 80000.0元\n"
          ]
        }
      ]
    },
    {
      "cell_type": "code",
      "source": [
        "score = float(input(\"請輸入成績\"))\n",
        "if score >= 90:\n",
        "  print(\"A\")\n",
        "elif score >= 80 and score <= 89:\n",
        "  print(\"B\")\n",
        "elif score >= 70 and score <= 79:\n",
        "  print(\"C\")\n",
        "elif score >= 60 and score <= 69:\n",
        "  print(\"D\")\n",
        "elif score < 60:\n",
        "  print(\"E\")"
      ],
      "metadata": {
        "colab": {
          "base_uri": "https://localhost:8080/"
        },
        "id": "xeWq3NpeqcUN",
        "outputId": "5ee53503-3ff6-45d6-ff41-d0cb96fab9ee"
      },
      "execution_count": 13,
      "outputs": [
        {
          "output_type": "stream",
          "name": "stdout",
          "text": [
            "請輸入成績90\n",
            "A\n"
          ]
        }
      ]
    },
    {
      "cell_type": "code",
      "source": [
        "score = float(input(\"請輸入成績\"))\n",
        "if score >= 90:\n",
        "  print(\"A\")\n",
        "elif score >= 80 and score <= 89:\n",
        "  print(\"B\")\n",
        "elif score >= 70 and score <= 79:\n",
        "  print(\"C\")\n",
        "elif score >= 60 and score <= 69:\n",
        "  print(\"D\")\n",
        "elif score < 60:\n",
        "  print(\"E\")"
      ],
      "metadata": {
        "colab": {
          "base_uri": "https://localhost:8080/"
        },
        "id": "lHCYoK_3tg2B",
        "outputId": "0c732b63-9a23-493d-9f64-a912f1cebd93"
      },
      "execution_count": 14,
      "outputs": [
        {
          "output_type": "stream",
          "name": "stdout",
          "text": [
            "請輸入成績80\n",
            "B\n"
          ]
        }
      ]
    },
    {
      "cell_type": "code",
      "source": [
        "score = float(input(\"請輸入成績\"))\n",
        "if score >= 90:\n",
        "  print(\"A\")\n",
        "elif score >= 80 and score <= 89:\n",
        "  print(\"B\")\n",
        "elif score >= 70 and score <= 79:\n",
        "  print(\"C\")\n",
        "elif score >= 60 and score <= 69:\n",
        "  print(\"D\")\n",
        "elif score < 60:\n",
        "  print(\"E\")"
      ],
      "metadata": {
        "colab": {
          "base_uri": "https://localhost:8080/"
        },
        "id": "bR4_RJWWtiTC",
        "outputId": "4da64f84-78b7-41b8-c9a6-80a1cf3d92b5"
      },
      "execution_count": 16,
      "outputs": [
        {
          "output_type": "stream",
          "name": "stdout",
          "text": [
            "請輸入成績50\n",
            "E\n"
          ]
        }
      ]
    },
    {
      "cell_type": "code",
      "source": [
        "month = int(input(\"請輸入月份\"))\n",
        "if month >= 3 and month <= 5:\n",
        "  print(month,\"月是春天\")\n",
        "elif month >= 6 and month <= 8:\n",
        "  print(month,\"月是夏天\")\n",
        "elif month >= 9 and month <= 11:\n",
        "  print(month,\"月是秋天\")\n",
        "elif month >= 12 and month <= 12:\n",
        "  print(month,\"月是冬天\")\n",
        "elif month >= 1 and month <= 2:\n",
        "  print(month,\"月是冬天\")\n",
        "else:\n",
        "  print(\"月份不在範圍內!\")"
      ],
      "metadata": {
        "colab": {
          "base_uri": "https://localhost:8080/"
        },
        "id": "6i0B8IVQt24M",
        "outputId": "bc23dec4-223c-4543-bbd9-28020e3bdaa7"
      },
      "execution_count": 59,
      "outputs": [
        {
          "output_type": "stream",
          "name": "stdout",
          "text": [
            "請輸入月份5\n",
            "5 月是春天\n"
          ]
        }
      ]
    },
    {
      "cell_type": "code",
      "source": [
        "income = int(input(\"請輸入今年收入淨額:\"))\n",
        "if(income >= 2000000):\n",
        "  print(\"付稅金額:\",income * 0.3,end=\"元\\n\")\n",
        "elif(income >= 1000000):\n",
        "  print(\"付稅金額:\",income * 0.21,end=\"元\\n\")\n",
        "elif(income >= 600000):\n",
        "  print(\"付稅金額:\",income * 0.13,end=\"元\\n\")\n",
        "elif(income >= 300000):\n",
        "  print(\"付稅金額:\",income * 0.06,end=\"元\\n\")\n",
        "else:\n",
        "  print(\"付稅金額:\",income * 0,end=\"元\\n\")"
      ],
      "metadata": {
        "colab": {
          "base_uri": "https://localhost:8080/"
        },
        "id": "aLYlL-dSylJ9",
        "outputId": "57c355f7-8c9c-433c-cf7a-c85369fc8da9"
      },
      "execution_count": 57,
      "outputs": [
        {
          "output_type": "stream",
          "name": "stdout",
          "text": [
            "請輸入今年收入淨額:100000\n",
            "付稅金額: 0元\n"
          ]
        }
      ]
    },
    {
      "cell_type": "code",
      "source": [
        "income = int(input(\"請輸入今年收入淨額:\"))\n",
        "if(income >= 2000000):\n",
        "  print(\"付稅金額:\",income * 0.3,end=\"元\\n\")\n",
        "elif(income >= 1000000):\n",
        "  print(\"付稅金額:\",income * 0.21,end=\"元\\n\")\n",
        "elif(income >= 600000):\n",
        "  print(\"付稅金額:\",income * 0.13,end=\"元\\n\")\n",
        "elif(income >= 300000):\n",
        "  print(\"付稅金額:\",income * 0.06,end=\"元\\n\")\n",
        "else:\n",
        "  print(\"付稅金額:\",income * 0,end=\"元\\n\")"
      ],
      "metadata": {
        "colab": {
          "base_uri": "https://localhost:8080/"
        },
        "id": "HLk7kQcC_kNM",
        "outputId": "5b59178d-b7ad-4b9d-9a14-379c514e4511"
      },
      "execution_count": 58,
      "outputs": [
        {
          "output_type": "stream",
          "name": "stdout",
          "text": [
            "請輸入今年收入淨額:2000000\n",
            "付稅金額: 600000.0元\n"
          ]
        }
      ]
    }
  ]
}